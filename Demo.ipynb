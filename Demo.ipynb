{
 "cells": [
  {
   "cell_type": "code",
   "execution_count": 1,
   "metadata": {},
   "outputs": [],
   "source": [
    "import matplotlib.pyplot as plt \n",
    "import metapack as mp\n",
    "import pandas as pd\n",
    "import numpy as np\n",
    "import seaborn as sns"
   ]
  },
  {
   "cell_type": "code",
   "execution_count": 2,
   "metadata": {},
   "outputs": [],
   "source": [
    "import metapack as mp\n",
    "pkg = mp.open_package('http://library.metatab.org/sandiegodata.org-tides_rain_river-6.zip')"
   ]
  },
  {
   "cell_type": "code",
   "execution_count": 3,
   "metadata": {},
   "outputs": [
    {
     "data": {
      "text/html": [
       "<h2>San Diego Tides, Rain and River Flow</h2>\n",
       "<p><p><em>A combined dataset of NOAA weather reports, USGS flow rates for the Sn Diego River and NOAA tide levels for La Jolla.</em></p>\n",
       "<p><small>sandiegodata.org-tides_rain_river-6 from metapack+http://library.metatab.org/sandiegodata.org-tides_rain_river-6.zip#metadata.csv</small></p></p>\n",
       "<p>This package combines three other datasets for use in the water quality data\n",
       "ptoject:</p>\n",
       "<pre><code>* waterservices.usgs.gov-stream_discharge-fashion_valley_sd\n",
       "* tidesandcurrents.noaa.gov-water_levels-la_jolla#water_levels\n",
       "* noaa.gov-localclimate-200808_201807-san#lcd-san\n",
       "</code></pre>\n",
       "<p>The resulting dataset has daily values for rainfall, flow rate for the San\n",
       "Diego river, and the max and min tide level at La Jolla.</p>\n",
       "<p>See the <a href=\"https://github.com/san-diego-water-quality/water-datasets/blob/master/derived/sandiegodata.org-tides_rain_river/notebooks/eda-tides_river_rain.ipynb\">EDA\n",
       "Notebook</a> for details of the structure of the data, in particular, the time coverage in the Nulls section.</p>\n",
       "<h1>Versions</h1>\n",
       "<ol>\n",
       "<li>Initial</li>\n",
       "<li>Continued development</li>\n",
       "<li>First release</li>\n",
       "<li>Added rolling averages</li>\n",
       "<li>Changed name</li>\n",
       "</ol>\n",
       "<h3>Documentation</h3>\n",
       "<h3>Contacts</h3>\n",
       "<p><strong>Wrangler:</strong> <a href=\"mailto:eric@civicknowledge.com\">Eric Busboom</a> <a href=\"http://civicknowledge.com\">Civic Knowledge</a></p>\n",
       "<h3>Resources</h3>\n",
       "<p><ol>\n",
       "<li><p><strong>tides_river_rain</strong> - <a target=\"_blank\" href=\"file:///home/jovyan/.local/share/metapack/library.metatab.org/sandiegodata.org-tides_rain_river-6.zip_d/sandiegodata.org-tides_rain_river-6/data/tides_river_rain.csv\">file:///home/jovyan/.local/share/metapack/library.metatab.org/sandiegodata.org-tides_rain_river-6.zip_d/sandiegodata.org-tides_rain_river-6/data/tides_river_rain.csv</a> Combined max, min tides, San Diego river flow and daily precipitation</p></li></p>\n",
       "</ol>\n",
       "\n",
       "<h3>References</h3>\n",
       "<p><ol>\n",
       "<li><p><strong>sd_river_discharge</strong> - <a target=\"_blank\" href=\"index:waterservices.usgs.gov-stream_discharge-fashion_valley_sd#fashion_valley\">index:waterservices.usgs.gov-stream_discharge-fashion_valley_sd#fashion_valley</a> Stream discharge rates for the San Diego River, Fashion Valley Station.</p></li>\n",
       "<li><p><strong>la_jolla_tide</strong> - <a target=\"_blank\" href=\"index:tidesandcurrents.noaa.gov-water_levels-la_jolla#water_levels\">index:tidesandcurrents.noaa.gov-water_levels-la_jolla#water_levels</a> High and Low Ocean water levels for the La Jolla station.</p></li>\n",
       "<li><p><strong>local_climate</strong> - <a target=\"_blank\" href=\"index:noaa.gov-localclimate-200808_201807-san#lcd-san\">index:noaa.gov-localclimate-200808_201807-san#lcd-san</a> Local climate data for San Diego</p></li></p>\n",
       "</ol>"
      ],
      "text/plain": [
       "<metapack.doc.MetapackDoc at 0x7f37bf8a6668>"
      ]
     },
     "execution_count": 3,
     "metadata": {},
     "output_type": "execute_result"
    }
   ],
   "source": [
    "pkg"
   ]
  },
  {
   "cell_type": "code",
   "execution_count": 4,
   "metadata": {},
   "outputs": [
    {
     "data": {
      "text/html": [
       "<h3><a name=\"resource-tides_river_rain\"></a>tides_river_rain</h3><p><a target=\"_blank\" href=\"file:///home/jovyan/.local/share/metapack/library.metatab.org/sandiegodata.org-tides_rain_river-6.zip_d/sandiegodata.org-tides_rain_river-6/data/tides_river_rain.csv\">file:///home/jovyan/.local/share/metapack/library.metatab.org/sandiegodata.org-tides_rain_river-6.zip_d/sandiegodata.org-tides_rain_river-6/data/tides_river_rain.csv</a></p><table>\n",
       "<tr><th>Header</th><th>Type</th><th>Description</th></tr><tr><td>date</td><td>date</td><td>date</td></tr> \n",
       "<tr><td>discharge_rate</td><td>number</td><td>Discharge rate, in cubic feet per second, for the San Diego River at Fashion Valley</td></tr> \n",
       "<tr><td>recent_total_discharge</td><td>number</td><td>Rolling three day sum of discharge_rate</td></tr> \n",
       "<tr><td>recent_max_discharge</td><td>number</td><td>Rolling three day max of discharge_rate</td></tr> \n",
       "<tr><td>dailyprecip</td><td>string</td><td>Daily precipitation, in inches, at Lindberg Field</td></tr> \n",
       "<tr><td>recent_precip</td><td>number</td><td>Rolling three day sum of dailyprecip</td></tr> \n",
       "<tr><td>wl_max</td><td>string</td><td>Max ocean water level, in feet, at La Jolla</td></tr> \n",
       "<tr><td>wl_min</td><td>string</td><td>Min water level, in feet, at La Jolla</td></tr> </table>"
      ],
      "text/plain": [
       "<Resource: metadata.csv 32:1 root.datafile data/tides_river_rain.csv ['tides_river_rain', 'Combined max, min tides, San Diego river flow and daily precipitation', '']>"
      ]
     },
     "execution_count": 4,
     "metadata": {},
     "output_type": "execute_result"
    }
   ],
   "source": [
    "pkg.resource('tides_river_rain')"
   ]
  },
  {
   "cell_type": "code",
   "execution_count": 5,
   "metadata": {},
   "outputs": [],
   "source": [
    "df = pkg.resource('tides_river_rain').read_csv(parse_dates=True)"
   ]
  },
  {
   "cell_type": "code",
   "execution_count": 7,
   "metadata": {},
   "outputs": [
    {
     "data": {
      "text/html": [
       "<div>\n",
       "<style scoped>\n",
       "    .dataframe tbody tr th:only-of-type {\n",
       "        vertical-align: middle;\n",
       "    }\n",
       "\n",
       "    .dataframe tbody tr th {\n",
       "        vertical-align: top;\n",
       "    }\n",
       "\n",
       "    .dataframe thead th {\n",
       "        text-align: right;\n",
       "    }\n",
       "</style>\n",
       "<table border=\"1\" class=\"dataframe\">\n",
       "  <thead>\n",
       "    <tr style=\"text-align: right;\">\n",
       "      <th></th>\n",
       "      <th>date</th>\n",
       "      <th>discharge_rate</th>\n",
       "      <th>recent_total_discharge</th>\n",
       "      <th>recent_max_discharge</th>\n",
       "      <th>dailyprecip</th>\n",
       "      <th>recent_precip</th>\n",
       "      <th>wl_max</th>\n",
       "      <th>wl_min</th>\n",
       "    </tr>\n",
       "  </thead>\n",
       "  <tbody>\n",
       "    <tr>\n",
       "      <th>0</th>\n",
       "      <td>1988-01-01</td>\n",
       "      <td>22.0</td>\n",
       "      <td>22.0</td>\n",
       "      <td>22.0</td>\n",
       "      <td>NaN</td>\n",
       "      <td>NaN</td>\n",
       "      <td>NaN</td>\n",
       "      <td>NaN</td>\n",
       "    </tr>\n",
       "    <tr>\n",
       "      <th>1</th>\n",
       "      <td>1988-01-02</td>\n",
       "      <td>20.0</td>\n",
       "      <td>42.0</td>\n",
       "      <td>42.0</td>\n",
       "      <td>NaN</td>\n",
       "      <td>NaN</td>\n",
       "      <td>NaN</td>\n",
       "      <td>NaN</td>\n",
       "    </tr>\n",
       "    <tr>\n",
       "      <th>2</th>\n",
       "      <td>1988-01-03</td>\n",
       "      <td>18.0</td>\n",
       "      <td>60.0</td>\n",
       "      <td>60.0</td>\n",
       "      <td>NaN</td>\n",
       "      <td>NaN</td>\n",
       "      <td>NaN</td>\n",
       "      <td>NaN</td>\n",
       "    </tr>\n",
       "    <tr>\n",
       "      <th>3</th>\n",
       "      <td>1988-01-04</td>\n",
       "      <td>18.0</td>\n",
       "      <td>56.0</td>\n",
       "      <td>60.0</td>\n",
       "      <td>NaN</td>\n",
       "      <td>NaN</td>\n",
       "      <td>NaN</td>\n",
       "      <td>NaN</td>\n",
       "    </tr>\n",
       "    <tr>\n",
       "      <th>4</th>\n",
       "      <td>1988-01-05</td>\n",
       "      <td>21.0</td>\n",
       "      <td>57.0</td>\n",
       "      <td>60.0</td>\n",
       "      <td>NaN</td>\n",
       "      <td>NaN</td>\n",
       "      <td>NaN</td>\n",
       "      <td>NaN</td>\n",
       "    </tr>\n",
       "  </tbody>\n",
       "</table>\n",
       "</div>"
      ],
      "text/plain": [
       "        date  discharge_rate  recent_total_discharge  recent_max_discharge  \\\n",
       "0 1988-01-01            22.0                    22.0                  22.0   \n",
       "1 1988-01-02            20.0                    42.0                  42.0   \n",
       "2 1988-01-03            18.0                    60.0                  60.0   \n",
       "3 1988-01-04            18.0                    56.0                  60.0   \n",
       "4 1988-01-05            21.0                    57.0                  60.0   \n",
       "\n",
       "   dailyprecip  recent_precip  wl_max  wl_min  \n",
       "0          NaN            NaN     NaN     NaN  \n",
       "1          NaN            NaN     NaN     NaN  \n",
       "2          NaN            NaN     NaN     NaN  \n",
       "3          NaN            NaN     NaN     NaN  \n",
       "4          NaN            NaN     NaN     NaN  "
      ]
     },
     "execution_count": 7,
     "metadata": {},
     "output_type": "execute_result"
    }
   ],
   "source": [
    "df.head()"
   ]
  },
  {
   "cell_type": "code",
   "execution_count": 17,
   "metadata": {},
   "outputs": [
    {
     "data": {
      "text/html": [
       "<div>\n",
       "<style scoped>\n",
       "    .dataframe tbody tr th:only-of-type {\n",
       "        vertical-align: middle;\n",
       "    }\n",
       "\n",
       "    .dataframe tbody tr th {\n",
       "        vertical-align: top;\n",
       "    }\n",
       "\n",
       "    .dataframe thead th {\n",
       "        text-align: right;\n",
       "    }\n",
       "</style>\n",
       "<table border=\"1\" class=\"dataframe\">\n",
       "  <thead>\n",
       "    <tr style=\"text-align: right;\">\n",
       "      <th></th>\n",
       "      <th>0</th>\n",
       "      <th>1</th>\n",
       "      <th>2</th>\n",
       "      <th>3</th>\n",
       "      <th>4</th>\n",
       "    </tr>\n",
       "  </thead>\n",
       "  <tbody>\n",
       "    <tr>\n",
       "      <th>date</th>\n",
       "      <td>1988-01-01 00:00:00</td>\n",
       "      <td>1988-01-02 00:00:00</td>\n",
       "      <td>1988-01-03 00:00:00</td>\n",
       "      <td>1988-01-04 00:00:00</td>\n",
       "      <td>1988-01-05 00:00:00</td>\n",
       "    </tr>\n",
       "    <tr>\n",
       "      <th>discharge_rate</th>\n",
       "      <td>22</td>\n",
       "      <td>20</td>\n",
       "      <td>18</td>\n",
       "      <td>18</td>\n",
       "      <td>21</td>\n",
       "    </tr>\n",
       "    <tr>\n",
       "      <th>recent_total_discharge</th>\n",
       "      <td>22</td>\n",
       "      <td>42</td>\n",
       "      <td>60</td>\n",
       "      <td>56</td>\n",
       "      <td>57</td>\n",
       "    </tr>\n",
       "    <tr>\n",
       "      <th>recent_max_discharge</th>\n",
       "      <td>22</td>\n",
       "      <td>42</td>\n",
       "      <td>60</td>\n",
       "      <td>60</td>\n",
       "      <td>60</td>\n",
       "    </tr>\n",
       "    <tr>\n",
       "      <th>dailyprecip</th>\n",
       "      <td>NaN</td>\n",
       "      <td>NaN</td>\n",
       "      <td>NaN</td>\n",
       "      <td>NaN</td>\n",
       "      <td>NaN</td>\n",
       "    </tr>\n",
       "    <tr>\n",
       "      <th>recent_precip</th>\n",
       "      <td>NaN</td>\n",
       "      <td>NaN</td>\n",
       "      <td>NaN</td>\n",
       "      <td>NaN</td>\n",
       "      <td>NaN</td>\n",
       "    </tr>\n",
       "    <tr>\n",
       "      <th>wl_max</th>\n",
       "      <td>NaN</td>\n",
       "      <td>NaN</td>\n",
       "      <td>NaN</td>\n",
       "      <td>NaN</td>\n",
       "      <td>NaN</td>\n",
       "    </tr>\n",
       "    <tr>\n",
       "      <th>wl_min</th>\n",
       "      <td>NaN</td>\n",
       "      <td>NaN</td>\n",
       "      <td>NaN</td>\n",
       "      <td>NaN</td>\n",
       "      <td>NaN</td>\n",
       "    </tr>\n",
       "  </tbody>\n",
       "</table>\n",
       "</div>"
      ],
      "text/plain": [
       "                                          0                    1  \\\n",
       "date                    1988-01-01 00:00:00  1988-01-02 00:00:00   \n",
       "discharge_rate                           22                   20   \n",
       "recent_total_discharge                   22                   42   \n",
       "recent_max_discharge                     22                   42   \n",
       "dailyprecip                             NaN                  NaN   \n",
       "recent_precip                           NaN                  NaN   \n",
       "wl_max                                  NaN                  NaN   \n",
       "wl_min                                  NaN                  NaN   \n",
       "\n",
       "                                          2                    3  \\\n",
       "date                    1988-01-03 00:00:00  1988-01-04 00:00:00   \n",
       "discharge_rate                           18                   18   \n",
       "recent_total_discharge                   60                   56   \n",
       "recent_max_discharge                     60                   60   \n",
       "dailyprecip                             NaN                  NaN   \n",
       "recent_precip                           NaN                  NaN   \n",
       "wl_max                                  NaN                  NaN   \n",
       "wl_min                                  NaN                  NaN   \n",
       "\n",
       "                                          4  \n",
       "date                    1988-01-05 00:00:00  \n",
       "discharge_rate                           21  \n",
       "recent_total_discharge                   57  \n",
       "recent_max_discharge                     60  \n",
       "dailyprecip                             NaN  \n",
       "recent_precip                           NaN  \n",
       "wl_max                                  NaN  \n",
       "wl_min                                  NaN  "
      ]
     },
     "execution_count": 17,
     "metadata": {},
     "output_type": "execute_result"
    }
   ],
   "source": [
    "df.head().T"
   ]
  },
  {
   "cell_type": "code",
   "execution_count": 24,
   "metadata": {},
   "outputs": [
    {
     "data": {
      "text/plain": [
       "discharge_rate             27.773071\n",
       "recent_total_discharge     82.597306\n",
       "recent_max_discharge      110.457640\n",
       "dailyprecip                 0.024497\n",
       "recent_precip               0.074003\n",
       "wl_max                      5.460670\n",
       "wl_min                      1.899977\n",
       "dtype: float64"
      ]
     },
     "execution_count": 24,
     "metadata": {},
     "output_type": "execute_result"
    }
   ],
   "source": [
    "df[df['wl_max'] > 2].mean()"
   ]
  },
  {
   "cell_type": "code",
   "execution_count": null,
   "metadata": {},
   "outputs": [],
   "source": []
  }
 ],
 "metadata": {
  "kernelspec": {
   "display_name": "Python 3",
   "language": "python",
   "name": "python3"
  },
  "language_info": {
   "codemirror_mode": {
    "name": "ipython",
    "version": 3
   },
   "file_extension": ".py",
   "mimetype": "text/x-python",
   "name": "python",
   "nbconvert_exporter": "python",
   "pygments_lexer": "ipython3",
   "version": "3.6.4"
  }
 },
 "nbformat": 4,
 "nbformat_minor": 2
}
